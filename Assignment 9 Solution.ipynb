{
 "cells": [
  {
   "cell_type": "markdown",
   "id": "bfc4c5d2",
   "metadata": {},
   "source": [
    "# Assignment_No.9"
   ]
  },
  {
   "cell_type": "markdown",
   "id": "148df021",
   "metadata": {},
   "source": [
    "#Question No.1:- To what does a relative path refer?\n",
    "\n",
    "Ans- \n",
    "A relative path in Python is a path that describes the location of a directory relative to the entry point where you run the Python script."
   ]
  },
  {
   "cell_type": "markdown",
   "id": "8596b652",
   "metadata": {},
   "source": [
    "#Question No.2:- What does an absolute path start with your operating system?\n",
    "\n",
    "Ans- \n",
    "An absolute path refers to the complete details needed to locate a file or folder, starting from the root element and ending with the other subdirectories"
   ]
  },
  {
   "cell_type": "markdown",
   "id": "185517a5",
   "metadata": {},
   "source": [
    "#Question No.3:- What do the functions os.getcwd() and os.chdir() do?\n",
    "\n",
    "Ans-\n",
    "getcwd() : CWD stands for Current Working Directory. This function allows you to see what your current working directory is. \n",
    "    \n",
    "chdir(\"chdir\") : Short for Change Directory, this function allows you to set the current working directory to a path of your choice."
   ]
  },
  {
   "cell_type": "markdown",
   "id": "a3b1c8b4",
   "metadata": {},
   "source": [
    "#Question No.4:- What are the . and .. folders?\n",
    "\n",
    "Ans-\n",
    "The . is the current directory, while .. signifies the parent directory. It makes things quicker at the command line as well so you don't need to type out full paths.\n",
    "\n",
    "\n"
   ]
  },
  {
   "cell_type": "markdown",
   "id": "d7e5042b",
   "metadata": {},
   "source": [
    "#Question No.5:- In C:\\bacon\\eggs\\spam.txt, which part is the dir name, and which part is the base name?\n",
    "\n",
    "Ans- \n",
    "C:\\bacon\\eggs is the dir name, while spam.txt is the base name."
   ]
  },
  {
   "cell_type": "markdown",
   "id": "03da0bfa",
   "metadata": {},
   "source": [
    "#Question No.6:- What are the three “mode” arguments that can be passed to the open() function?\n",
    "\n",
    "Ans-\n",
    "The string 'r' for read mode, 'w' for write mode, and 'a' for append mode"
   ]
  },
  {
   "cell_type": "markdown",
   "id": "9b07abbb",
   "metadata": {},
   "source": [
    "#Question No.7:- What happens if an existing file is opened in write mode?\n",
    "\n",
    "Ans-\n",
    "An existing file opened in write mode is erased and completely overwritten."
   ]
  },
  {
   "cell_type": "markdown",
   "id": "ef5fbf3f",
   "metadata": {},
   "source": [
    "#Question No.8:- How do you tell the difference between read() and readlines()?\n",
    "\n",
    "Ans- \n",
    "The read() method returns the file's entire contents as a single string value. The readlines() method returns a list of strings, where each string is a line from the file's contents."
   ]
  },
  {
   "cell_type": "markdown",
   "id": "6ad13899",
   "metadata": {},
   "source": [
    "#Question No.9:- What data structure does a shelf value resemble?\n",
    "\n",
    "Ans- \n",
    "A shelf value resembles a dictionary value; it has keys and values, along with keys() and values() methods that work similarly to the dictionary methods of the same names."
   ]
  },
  {
   "cell_type": "code",
   "execution_count": null,
   "id": "77b71a0a",
   "metadata": {},
   "outputs": [],
   "source": []
  }
 ],
 "metadata": {
  "kernelspec": {
   "display_name": "Python 3 (ipykernel)",
   "language": "python",
   "name": "python3"
  },
  "language_info": {
   "codemirror_mode": {
    "name": "ipython",
    "version": 3
   },
   "file_extension": ".py",
   "mimetype": "text/x-python",
   "name": "python",
   "nbconvert_exporter": "python",
   "pygments_lexer": "ipython3",
   "version": "3.9.7"
  }
 },
 "nbformat": 4,
 "nbformat_minor": 5
}
